{
 "cells": [
  {
   "cell_type": "markdown",
   "id": "487322cd",
   "metadata": {},
   "source": [
    "# Problem Definition"
   ]
  },
  {
   "cell_type": "markdown",
   "id": "bb554f44",
   "metadata": {},
   "source": [
    "We are tring to build a machine learning model to predict whether a customer will buy a product or not using the given dataset. The target is labled as 'Revenue' in the given dataset."
   ]
  },
  {
   "cell_type": "code",
   "execution_count": 125,
   "id": "3b3d7566",
   "metadata": {},
   "outputs": [],
   "source": [
    "import pandas as pd\n",
    "import seaborn as sns\n",
    "from sklearn.preprocessing import StandardScaler\n",
    "from sklearn.preprocessing import MinMaxScaler\n",
    "import matplotlib.pyplot as plt\n",
    "import numpy as np"
   ]
  },
  {
   "cell_type": "markdown",
   "id": "490737b9",
   "metadata": {},
   "source": [
    "# Pre-model Analysis"
   ]
  },
  {
   "cell_type": "code",
   "execution_count": 126,
   "id": "fea69f7b",
   "metadata": {
    "scrolled": true
   },
   "outputs": [
    {
     "data": {
      "text/html": [
       "<div>\n",
       "<style scoped>\n",
       "    .dataframe tbody tr th:only-of-type {\n",
       "        vertical-align: middle;\n",
       "    }\n",
       "\n",
       "    .dataframe tbody tr th {\n",
       "        vertical-align: top;\n",
       "    }\n",
       "\n",
       "    .dataframe thead th {\n",
       "        text-align: right;\n",
       "    }\n",
       "</style>\n",
       "<table border=\"1\" class=\"dataframe\">\n",
       "  <thead>\n",
       "    <tr style=\"text-align: right;\">\n",
       "      <th></th>\n",
       "      <th>Administrative</th>\n",
       "      <th>Administrative_Duration</th>\n",
       "      <th>Informational</th>\n",
       "      <th>Informational_Duration</th>\n",
       "      <th>ProductRelated</th>\n",
       "      <th>ProductRelated_Duration</th>\n",
       "      <th>BounceRates</th>\n",
       "      <th>ExitRates</th>\n",
       "      <th>PageValues</th>\n",
       "      <th>SpecialDay</th>\n",
       "      <th>Month</th>\n",
       "      <th>OperatingSystems</th>\n",
       "      <th>Browser</th>\n",
       "      <th>Region</th>\n",
       "      <th>TrafficType</th>\n",
       "      <th>VisitorType</th>\n",
       "      <th>Weekend</th>\n",
       "      <th>Revenue</th>\n",
       "    </tr>\n",
       "  </thead>\n",
       "  <tbody>\n",
       "    <tr>\n",
       "      <th>0</th>\n",
       "      <td>0</td>\n",
       "      <td>0.0</td>\n",
       "      <td>0</td>\n",
       "      <td>0.0</td>\n",
       "      <td>1</td>\n",
       "      <td>0.000000</td>\n",
       "      <td>0.20</td>\n",
       "      <td>0.20</td>\n",
       "      <td>0.0</td>\n",
       "      <td>0.0</td>\n",
       "      <td>Feb</td>\n",
       "      <td>1</td>\n",
       "      <td>1</td>\n",
       "      <td>1</td>\n",
       "      <td>1</td>\n",
       "      <td>Returning_Visitor</td>\n",
       "      <td>False</td>\n",
       "      <td>False</td>\n",
       "    </tr>\n",
       "    <tr>\n",
       "      <th>1</th>\n",
       "      <td>0</td>\n",
       "      <td>0.0</td>\n",
       "      <td>0</td>\n",
       "      <td>0.0</td>\n",
       "      <td>2</td>\n",
       "      <td>64.000000</td>\n",
       "      <td>0.00</td>\n",
       "      <td>0.10</td>\n",
       "      <td>0.0</td>\n",
       "      <td>0.0</td>\n",
       "      <td>Feb</td>\n",
       "      <td>2</td>\n",
       "      <td>2</td>\n",
       "      <td>1</td>\n",
       "      <td>2</td>\n",
       "      <td>Returning_Visitor</td>\n",
       "      <td>False</td>\n",
       "      <td>False</td>\n",
       "    </tr>\n",
       "    <tr>\n",
       "      <th>2</th>\n",
       "      <td>0</td>\n",
       "      <td>0.0</td>\n",
       "      <td>0</td>\n",
       "      <td>0.0</td>\n",
       "      <td>1</td>\n",
       "      <td>0.000000</td>\n",
       "      <td>0.20</td>\n",
       "      <td>0.20</td>\n",
       "      <td>0.0</td>\n",
       "      <td>0.0</td>\n",
       "      <td>Feb</td>\n",
       "      <td>4</td>\n",
       "      <td>1</td>\n",
       "      <td>9</td>\n",
       "      <td>3</td>\n",
       "      <td>Returning_Visitor</td>\n",
       "      <td>False</td>\n",
       "      <td>False</td>\n",
       "    </tr>\n",
       "    <tr>\n",
       "      <th>3</th>\n",
       "      <td>0</td>\n",
       "      <td>0.0</td>\n",
       "      <td>0</td>\n",
       "      <td>0.0</td>\n",
       "      <td>2</td>\n",
       "      <td>2.666667</td>\n",
       "      <td>0.05</td>\n",
       "      <td>0.14</td>\n",
       "      <td>0.0</td>\n",
       "      <td>0.0</td>\n",
       "      <td>Feb</td>\n",
       "      <td>3</td>\n",
       "      <td>2</td>\n",
       "      <td>2</td>\n",
       "      <td>4</td>\n",
       "      <td>Returning_Visitor</td>\n",
       "      <td>False</td>\n",
       "      <td>False</td>\n",
       "    </tr>\n",
       "    <tr>\n",
       "      <th>4</th>\n",
       "      <td>0</td>\n",
       "      <td>0.0</td>\n",
       "      <td>0</td>\n",
       "      <td>0.0</td>\n",
       "      <td>10</td>\n",
       "      <td>627.500000</td>\n",
       "      <td>0.02</td>\n",
       "      <td>0.05</td>\n",
       "      <td>0.0</td>\n",
       "      <td>0.0</td>\n",
       "      <td>Feb</td>\n",
       "      <td>3</td>\n",
       "      <td>3</td>\n",
       "      <td>1</td>\n",
       "      <td>4</td>\n",
       "      <td>Returning_Visitor</td>\n",
       "      <td>True</td>\n",
       "      <td>False</td>\n",
       "    </tr>\n",
       "  </tbody>\n",
       "</table>\n",
       "</div>"
      ],
      "text/plain": [
       "   Administrative  Administrative_Duration  Informational  \\\n",
       "0               0                      0.0              0   \n",
       "1               0                      0.0              0   \n",
       "2               0                      0.0              0   \n",
       "3               0                      0.0              0   \n",
       "4               0                      0.0              0   \n",
       "\n",
       "   Informational_Duration  ProductRelated  ProductRelated_Duration  \\\n",
       "0                     0.0               1                 0.000000   \n",
       "1                     0.0               2                64.000000   \n",
       "2                     0.0               1                 0.000000   \n",
       "3                     0.0               2                 2.666667   \n",
       "4                     0.0              10               627.500000   \n",
       "\n",
       "   BounceRates  ExitRates  PageValues  SpecialDay Month  OperatingSystems  \\\n",
       "0         0.20       0.20         0.0         0.0   Feb                 1   \n",
       "1         0.00       0.10         0.0         0.0   Feb                 2   \n",
       "2         0.20       0.20         0.0         0.0   Feb                 4   \n",
       "3         0.05       0.14         0.0         0.0   Feb                 3   \n",
       "4         0.02       0.05         0.0         0.0   Feb                 3   \n",
       "\n",
       "   Browser  Region  TrafficType        VisitorType  Weekend  Revenue  \n",
       "0        1       1            1  Returning_Visitor    False    False  \n",
       "1        2       1            2  Returning_Visitor    False    False  \n",
       "2        1       9            3  Returning_Visitor    False    False  \n",
       "3        2       2            4  Returning_Visitor    False    False  \n",
       "4        3       1            4  Returning_Visitor     True    False  "
      ]
     },
     "execution_count": 126,
     "metadata": {},
     "output_type": "execute_result"
    }
   ],
   "source": [
    "df = pd.read_csv('coding_round_data.csv')\n",
    "df.head()"
   ]
  },
  {
   "cell_type": "code",
   "execution_count": 129,
   "id": "927457d5",
   "metadata": {
    "scrolled": false
   },
   "outputs": [
    {
     "name": "stdout",
     "output_type": "stream",
     "text": [
      "Administrative             False\n",
      "Administrative_Duration    False\n",
      "Informational              False\n",
      "Informational_Duration     False\n",
      "ProductRelated             False\n",
      "ProductRelated_Duration    False\n",
      "BounceRates                False\n",
      "ExitRates                  False\n",
      "PageValues                 False\n",
      "SpecialDay                 False\n",
      "Month                      False\n",
      "OperatingSystems           False\n",
      "Browser                    False\n",
      "Region                     False\n",
      "TrafficType                False\n",
      "VisitorType                False\n",
      "Weekend                    False\n",
      "Revenue                    False\n",
      "dtype: bool\n"
     ]
    }
   ],
   "source": [
    "\n",
    "selection = pd.isnull(df).sum(axis=0)>0\n",
    "print (selection)"
   ]
  },
  {
   "cell_type": "markdown",
   "id": "f2c7300b",
   "metadata": {},
   "source": [
    "Here, we found that the dataset does not contain any nan values"
   ]
  },
  {
   "cell_type": "code",
   "execution_count": 130,
   "id": "ef395c43",
   "metadata": {},
   "outputs": [],
   "source": [
    "# Pop target\n",
    "target = df.pop('Revenue')"
   ]
  },
  {
   "cell_type": "markdown",
   "id": "31659d28",
   "metadata": {},
   "source": [
    "According to the instruction, there are 10 numerical features and 7 categorical features. We use min-max scaler for numerical features and one hot encoder for categorical features\n"
   ]
  },
  {
   "cell_type": "code",
   "execution_count": 204,
   "id": "5ff2eb4f",
   "metadata": {},
   "outputs": [],
   "source": [
    "num_col = ['Administrative','Administrative_Duration','Informational','Informational_Duration','ProductRelated','ProductRelated_Duration','BounceRates','ExitRates','PageValues','SpecialDay']\n",
    "num_df = df[num_col]\n",
    "cat_df = df.loc[:,~df.columns.isin(num_col)]"
   ]
  },
  {
   "cell_type": "code",
   "execution_count": 135,
   "id": "93b6e480",
   "metadata": {
    "scrolled": true
   },
   "outputs": [
    {
     "data": {
      "text/plain": [
       "Month               10\n",
       "OperatingSystems     8\n",
       "Browser             13\n",
       "Region               9\n",
       "TrafficType         20\n",
       "VisitorType          3\n",
       "Weekend              2\n",
       "dtype: int64"
      ]
     },
     "execution_count": 135,
     "metadata": {},
     "output_type": "execute_result"
    }
   ],
   "source": [
    "cat_df.nunique(dropna=False)"
   ]
  },
  {
   "cell_type": "code",
   "execution_count": 136,
   "id": "e210b6b4",
   "metadata": {},
   "outputs": [
    {
     "name": "stdout",
     "output_type": "stream",
     "text": [
      "May     3364\n",
      "Nov     2998\n",
      "Mar     1907\n",
      "Dec     1727\n",
      "Oct      549\n",
      "Sep      448\n",
      "Aug      433\n",
      "Jul      432\n",
      "June     288\n",
      "Feb      184\n",
      "Name: Month, dtype: int64 \n",
      "\n",
      "2    6601\n",
      "1    2585\n",
      "3    2555\n",
      "4     478\n",
      "8      79\n",
      "6      19\n",
      "7       7\n",
      "5       6\n",
      "Name: OperatingSystems, dtype: int64 \n",
      "\n",
      "2     7961\n",
      "1     2462\n",
      "4      736\n",
      "5      467\n",
      "6      174\n",
      "10     163\n",
      "8      135\n",
      "3      105\n",
      "13      61\n",
      "7       49\n",
      "12      10\n",
      "11       6\n",
      "9        1\n",
      "Name: Browser, dtype: int64 \n",
      "\n",
      "1    4780\n",
      "3    2403\n",
      "4    1182\n",
      "2    1136\n",
      "6     805\n",
      "7     761\n",
      "9     511\n",
      "8     434\n",
      "5     318\n",
      "Name: Region, dtype: int64 \n",
      "\n",
      "2     3913\n",
      "1     2451\n",
      "3     2052\n",
      "4     1069\n",
      "13     738\n",
      "10     450\n",
      "6      444\n",
      "8      343\n",
      "5      260\n",
      "11     247\n",
      "20     198\n",
      "9       42\n",
      "7       40\n",
      "15      38\n",
      "19      17\n",
      "14      13\n",
      "18      10\n",
      "16       3\n",
      "12       1\n",
      "17       1\n",
      "Name: TrafficType, dtype: int64 \n",
      "\n",
      "Returning_Visitor    10551\n",
      "New_Visitor           1694\n",
      "Other                   85\n",
      "Name: VisitorType, dtype: int64 \n",
      "\n",
      "False    9462\n",
      "True     2868\n",
      "Name: Weekend, dtype: int64 \n",
      "\n"
     ]
    }
   ],
   "source": [
    "#print counts of each categorical variable\n",
    "for col in cat_df:\n",
    "    print(cat_df[col].value_counts(dropna=False),'\\n')"
   ]
  },
  {
   "cell_type": "code",
   "execution_count": 205,
   "id": "1ee1f90a",
   "metadata": {},
   "outputs": [],
   "source": [
    "from sklearn.feature_selection import RFECV\n",
    "from sklearn.linear_model import LogisticRegression\n",
    "from sklearn.preprocessing import MinMaxScaler, OneHotEncoder\n",
    "from sklearn.feature_selection import RFECV\n",
    "from sklearn.metrics import roc_auc_score\n",
    "from sklearn.ensemble import RandomForestClassifier\n",
    "from sklearn.model_selection import train_test_split\n",
    "from sklearn.metrics import r2_score"
   ]
  },
  {
   "cell_type": "markdown",
   "id": "5cae75b6",
   "metadata": {},
   "source": [
    "# Modeling and Feature Engineering"
   ]
  },
  {
   "cell_type": "markdown",
   "id": "9549413c",
   "metadata": {},
   "source": [
    "We first run logistic regression with only the numerical variables"
   ]
  },
  {
   "cell_type": "code",
   "execution_count": 206,
   "id": "b47a6180",
   "metadata": {},
   "outputs": [],
   "source": [
    "# train/test split\n",
    "X_train, X_test, y_train, y_test = train_test_split(num_df,\n",
    "                                  target,\n",
    "                                  test_size=0.2,\n",
    "                                  random_state=1)"
   ]
  },
  {
   "cell_type": "code",
   "execution_count": 210,
   "id": "131feffc",
   "metadata": {},
   "outputs": [],
   "source": [
    "# rescale the numerical features\n",
    "scaler = MinMaxScaler()\n",
    "X_train_scaled = pd.DataFrame(scaler.fit_transform(X_train))\n",
    "X_test_scaled = pd.DataFrame(scaler.transform(X_test))"
   ]
  },
  {
   "cell_type": "markdown",
   "id": "2a66f249",
   "metadata": {},
   "source": [
    "Here, I use recursive feature reduction with cross validation to train a logistic regression model."
   ]
  },
  {
   "cell_type": "code",
   "execution_count": 215,
   "id": "0e103003",
   "metadata": {},
   "outputs": [],
   "source": [
    "rfe_lr = RFECV(LogisticRegression(max_iter=200),\n",
    "      scoring = 'roc_auc',\n",
    "      n_jobs = -1,\n",
    "      cv = 3,\n",
    "      step = 1)"
   ]
  },
  {
   "cell_type": "code",
   "execution_count": 218,
   "id": "aa134da7",
   "metadata": {},
   "outputs": [
    {
     "name": "stdout",
     "output_type": "stream",
     "text": [
      "AUC:  0.8862540663959102\n"
     ]
    }
   ],
   "source": [
    "rfe_lr.fit(X_train_scaled, y_train)\n",
    "\n",
    "rfe_lr_probs = rfe_lr.predict_proba(X_test_scaled)\n",
    "print('AUC: ', roc_auc_score(y_test, rfe_lr_probs[:,1]))"
   ]
  },
  {
   "cell_type": "markdown",
   "id": "755441e4",
   "metadata": {},
   "source": [
    "I also used all features without any recursive feature elimination to train a logistic regression model."
   ]
  },
  {
   "cell_type": "code",
   "execution_count": 219,
   "id": "14ab20ad",
   "metadata": {},
   "outputs": [
    {
     "name": "stdout",
     "output_type": "stream",
     "text": [
      "All feature LR AUC:  0.8862769661824037\n"
     ]
    }
   ],
   "source": [
    "reg = LogisticRegression()\n",
    "reg.fit(X_train_scaled,y_train)\n",
    "reg_probs = reg.predict_proba(X_test_scaled)\n",
    "print('All feature LR AUC: ', roc_auc_score(y_test, reg_probs[:,1]))"
   ]
  },
  {
   "cell_type": "markdown",
   "id": "c5b3eff8",
   "metadata": {},
   "source": [
    "The two models ended up with similar test AUC scores. The RFECV recommended features are shown as below"
   ]
  },
  {
   "cell_type": "code",
   "execution_count": 223,
   "id": "44a407ee",
   "metadata": {
    "scrolled": true
   },
   "outputs": [
    {
     "name": "stdout",
     "output_type": "stream",
     "text": [
      "Index(['Administrative', 'Informational', 'Informational_Duration',\n",
      "       'ProductRelated', 'ProductRelated_Duration', 'BounceRates', 'ExitRates',\n",
      "       'PageValues', 'SpecialDay'],\n",
      "      dtype='object')\n",
      "Features after RFE AUC:  0.8862540663959102\n"
     ]
    }
   ],
   "source": [
    "print (num_df.columns[rfe_lr.support_])\n",
    "reg = LogisticRegression()\n",
    "reg.fit(X_train_scaled.loc[:,rfe_lr.support_],y_train)\n",
    "reg_probs = reg.predict_proba(X_test_scaled.loc[:,rfe_lr.support_])\n",
    "print('Features after RFE AUC: ', roc_auc_score(y_test, reg_probs[:,1]))"
   ]
  },
  {
   "cell_type": "markdown",
   "id": "47481254",
   "metadata": {},
   "source": [
    "Now, we are going to train the models with all the features, including numerical features and categorical features"
   ]
  },
  {
   "cell_type": "code",
   "execution_count": 225,
   "id": "57b597dd",
   "metadata": {},
   "outputs": [],
   "source": [
    "X_train, X_test, y_train, y_test = train_test_split(df,\n",
    "                                  target,\n",
    "                                  test_size=0.2,\n",
    "                                  random_state=1)"
   ]
  },
  {
   "cell_type": "code",
   "execution_count": 226,
   "id": "ff1b3116",
   "metadata": {},
   "outputs": [],
   "source": [
    "num_col = ['Administrative','Administrative_Duration','Informational','Informational_Duration','ProductRelated','ProductRelated_Duration','BounceRates','ExitRates','PageValues','SpecialDay']\n",
    "num_df_train = X_train[num_col]\n",
    "num_df_test = X_test[num_col]\n",
    "cat_df_train = X_train.loc[:,~X_train.columns.isin(num_col)]\n",
    "cat_df_test = X_test.loc[:,~X_test.columns.isin(num_col)]"
   ]
  },
  {
   "cell_type": "code",
   "execution_count": 227,
   "id": "381c0b52",
   "metadata": {},
   "outputs": [
    {
     "name": "stderr",
     "output_type": "stream",
     "text": [
      "C:\\Users\\xli22\\anaconda3\\lib\\site-packages\\pandas\\core\\frame.py:4308: SettingWithCopyWarning: \n",
      "A value is trying to be set on a copy of a slice from a DataFrame\n",
      "\n",
      "See the caveats in the documentation: https://pandas.pydata.org/pandas-docs/stable/user_guide/indexing.html#returning-a-view-versus-a-copy\n",
      "  return super().drop(\n"
     ]
    }
   ],
   "source": [
    "# create dummy variables for trainining set\n",
    "month_dummy = pd.get_dummies(cat_df_train['Month'])\n",
    "visitor_dummy = pd.get_dummies(cat_df_train['VisitorType'])\n",
    "weekend_dummy = pd.get_dummies(cat_df_train['Weekend'])\n",
    "cat_df_train.drop(['Month','VisitorType','Weekend'],axis = 1, inplace = True)\n",
    "\n",
    "cat_df_train = pd.concat([cat_df_train,month_dummy,visitor_dummy,weekend_dummy],axis = 1)\n",
    "\n",
    "# create dummy variables for test set\n",
    "month_dummy = pd.get_dummies(cat_df_test['Month'])\n",
    "visitor_dummy = pd.get_dummies(cat_df_test['VisitorType'])\n",
    "weekend_dummy = pd.get_dummies(cat_df_test['Weekend'])\n",
    "cat_df_test.drop(['Month','VisitorType','Weekend'],axis = 1, inplace = True)\n",
    "\n",
    "cat_df_test = pd.concat([cat_df_test,month_dummy,visitor_dummy,weekend_dummy],axis = 1)"
   ]
  },
  {
   "cell_type": "code",
   "execution_count": 228,
   "id": "8e51c28b",
   "metadata": {},
   "outputs": [],
   "source": [
    "# scale numerical data\n",
    "X_train_s = (num_df_train-num_df_train.min())/(num_df_train.max()-num_df_train.min())\n",
    "X_test_s = (num_df_test-num_df_train.min())/(num_df_train.max()-num_df_train.min())"
   ]
  },
  {
   "cell_type": "code",
   "execution_count": 229,
   "id": "1461b7ac",
   "metadata": {},
   "outputs": [],
   "source": [
    "# Concatenate numerical and categorical features\n",
    "X_train_processed = pd.concat([X_train_s, cat_df_train], axis = 1)\n",
    "X_test_processed = pd.concat([X_test_s, cat_df_test], axis = 1)"
   ]
  },
  {
   "cell_type": "code",
   "execution_count": 230,
   "id": "7f02a0dd",
   "metadata": {
    "scrolled": true
   },
   "outputs": [
    {
     "data": {
      "text/html": [
       "<div>\n",
       "<style scoped>\n",
       "    .dataframe tbody tr th:only-of-type {\n",
       "        vertical-align: middle;\n",
       "    }\n",
       "\n",
       "    .dataframe tbody tr th {\n",
       "        vertical-align: top;\n",
       "    }\n",
       "\n",
       "    .dataframe thead th {\n",
       "        text-align: right;\n",
       "    }\n",
       "</style>\n",
       "<table border=\"1\" class=\"dataframe\">\n",
       "  <thead>\n",
       "    <tr style=\"text-align: right;\">\n",
       "      <th></th>\n",
       "      <th>Administrative</th>\n",
       "      <th>Administrative_Duration</th>\n",
       "      <th>Informational</th>\n",
       "      <th>Informational_Duration</th>\n",
       "      <th>ProductRelated</th>\n",
       "      <th>ProductRelated_Duration</th>\n",
       "      <th>BounceRates</th>\n",
       "      <th>ExitRates</th>\n",
       "      <th>PageValues</th>\n",
       "      <th>SpecialDay</th>\n",
       "      <th>...</th>\n",
       "      <th>Mar</th>\n",
       "      <th>May</th>\n",
       "      <th>Nov</th>\n",
       "      <th>Oct</th>\n",
       "      <th>Sep</th>\n",
       "      <th>New_Visitor</th>\n",
       "      <th>Other</th>\n",
       "      <th>Returning_Visitor</th>\n",
       "      <th>False</th>\n",
       "      <th>True</th>\n",
       "    </tr>\n",
       "  </thead>\n",
       "  <tbody>\n",
       "    <tr>\n",
       "      <th>3339</th>\n",
       "      <td>0.000000</td>\n",
       "      <td>0.000000</td>\n",
       "      <td>0.0</td>\n",
       "      <td>0.0</td>\n",
       "      <td>0.005674</td>\n",
       "      <td>0.001626</td>\n",
       "      <td>0.000000</td>\n",
       "      <td>0.250000</td>\n",
       "      <td>0.0</td>\n",
       "      <td>0.0</td>\n",
       "      <td>...</td>\n",
       "      <td>0</td>\n",
       "      <td>1</td>\n",
       "      <td>0</td>\n",
       "      <td>0</td>\n",
       "      <td>0</td>\n",
       "      <td>0</td>\n",
       "      <td>0</td>\n",
       "      <td>1</td>\n",
       "      <td>1</td>\n",
       "      <td>0</td>\n",
       "    </tr>\n",
       "    <tr>\n",
       "      <th>10953</th>\n",
       "      <td>0.000000</td>\n",
       "      <td>0.000000</td>\n",
       "      <td>0.0</td>\n",
       "      <td>0.0</td>\n",
       "      <td>0.001418</td>\n",
       "      <td>0.000000</td>\n",
       "      <td>1.000000</td>\n",
       "      <td>1.000000</td>\n",
       "      <td>0.0</td>\n",
       "      <td>0.0</td>\n",
       "      <td>...</td>\n",
       "      <td>0</td>\n",
       "      <td>0</td>\n",
       "      <td>0</td>\n",
       "      <td>0</td>\n",
       "      <td>0</td>\n",
       "      <td>0</td>\n",
       "      <td>0</td>\n",
       "      <td>1</td>\n",
       "      <td>1</td>\n",
       "      <td>0</td>\n",
       "    </tr>\n",
       "    <tr>\n",
       "      <th>8536</th>\n",
       "      <td>0.000000</td>\n",
       "      <td>0.000000</td>\n",
       "      <td>0.0</td>\n",
       "      <td>0.0</td>\n",
       "      <td>0.001418</td>\n",
       "      <td>0.000000</td>\n",
       "      <td>1.000000</td>\n",
       "      <td>1.000000</td>\n",
       "      <td>0.0</td>\n",
       "      <td>0.0</td>\n",
       "      <td>...</td>\n",
       "      <td>0</td>\n",
       "      <td>0</td>\n",
       "      <td>1</td>\n",
       "      <td>0</td>\n",
       "      <td>0</td>\n",
       "      <td>0</td>\n",
       "      <td>0</td>\n",
       "      <td>1</td>\n",
       "      <td>1</td>\n",
       "      <td>0</td>\n",
       "    </tr>\n",
       "    <tr>\n",
       "      <th>7766</th>\n",
       "      <td>0.230769</td>\n",
       "      <td>0.031590</td>\n",
       "      <td>0.0</td>\n",
       "      <td>0.0</td>\n",
       "      <td>0.015603</td>\n",
       "      <td>0.002365</td>\n",
       "      <td>0.027778</td>\n",
       "      <td>0.200000</td>\n",
       "      <td>0.0</td>\n",
       "      <td>0.0</td>\n",
       "      <td>...</td>\n",
       "      <td>0</td>\n",
       "      <td>0</td>\n",
       "      <td>1</td>\n",
       "      <td>0</td>\n",
       "      <td>0</td>\n",
       "      <td>0</td>\n",
       "      <td>0</td>\n",
       "      <td>1</td>\n",
       "      <td>1</td>\n",
       "      <td>0</td>\n",
       "    </tr>\n",
       "    <tr>\n",
       "      <th>8280</th>\n",
       "      <td>0.192308</td>\n",
       "      <td>0.013682</td>\n",
       "      <td>0.0</td>\n",
       "      <td>0.0</td>\n",
       "      <td>0.024113</td>\n",
       "      <td>0.003431</td>\n",
       "      <td>0.055556</td>\n",
       "      <td>0.111111</td>\n",
       "      <td>0.0</td>\n",
       "      <td>0.0</td>\n",
       "      <td>...</td>\n",
       "      <td>0</td>\n",
       "      <td>0</td>\n",
       "      <td>0</td>\n",
       "      <td>0</td>\n",
       "      <td>0</td>\n",
       "      <td>0</td>\n",
       "      <td>0</td>\n",
       "      <td>1</td>\n",
       "      <td>1</td>\n",
       "      <td>0</td>\n",
       "    </tr>\n",
       "  </tbody>\n",
       "</table>\n",
       "<p>5 rows × 29 columns</p>\n",
       "</div>"
      ],
      "text/plain": [
       "       Administrative  Administrative_Duration  Informational  \\\n",
       "3339         0.000000                 0.000000            0.0   \n",
       "10953        0.000000                 0.000000            0.0   \n",
       "8536         0.000000                 0.000000            0.0   \n",
       "7766         0.230769                 0.031590            0.0   \n",
       "8280         0.192308                 0.013682            0.0   \n",
       "\n",
       "       Informational_Duration  ProductRelated  ProductRelated_Duration  \\\n",
       "3339                      0.0        0.005674                 0.001626   \n",
       "10953                     0.0        0.001418                 0.000000   \n",
       "8536                      0.0        0.001418                 0.000000   \n",
       "7766                      0.0        0.015603                 0.002365   \n",
       "8280                      0.0        0.024113                 0.003431   \n",
       "\n",
       "       BounceRates  ExitRates  PageValues  SpecialDay  ...  Mar  May  Nov  \\\n",
       "3339      0.000000   0.250000         0.0         0.0  ...    0    1    0   \n",
       "10953     1.000000   1.000000         0.0         0.0  ...    0    0    0   \n",
       "8536      1.000000   1.000000         0.0         0.0  ...    0    0    1   \n",
       "7766      0.027778   0.200000         0.0         0.0  ...    0    0    1   \n",
       "8280      0.055556   0.111111         0.0         0.0  ...    0    0    0   \n",
       "\n",
       "       Oct  Sep  New_Visitor  Other  Returning_Visitor  False  True  \n",
       "3339     0    0            0      0                  1      1     0  \n",
       "10953    0    0            0      0                  1      1     0  \n",
       "8536     0    0            0      0                  1      1     0  \n",
       "7766     0    0            0      0                  1      1     0  \n",
       "8280     0    0            0      0                  1      1     0  \n",
       "\n",
       "[5 rows x 29 columns]"
      ]
     },
     "execution_count": 230,
     "metadata": {},
     "output_type": "execute_result"
    }
   ],
   "source": [
    "X_train_processed.head()"
   ]
  },
  {
   "cell_type": "markdown",
   "id": "8dc61c14",
   "metadata": {},
   "source": [
    "Here, I use recursive feature reduction with cross validation to train a logistic regression model with all the features."
   ]
  },
  {
   "cell_type": "code",
   "execution_count": 231,
   "id": "f6e0d7d2",
   "metadata": {},
   "outputs": [],
   "source": [
    "clf2 = RFECV(LogisticRegression(max_iter=1000),\n",
    "      scoring = 'roc_auc',\n",
    "      n_jobs = -1,\n",
    "      cv = 3,\n",
    "      step = 1)"
   ]
  },
  {
   "cell_type": "code",
   "execution_count": 232,
   "id": "f6b58bfe",
   "metadata": {},
   "outputs": [
    {
     "name": "stderr",
     "output_type": "stream",
     "text": [
      "C:\\Users\\xli22\\anaconda3\\lib\\site-packages\\sklearn\\utils\\validation.py:1688: FutureWarning: Feature names only support names that are all strings. Got feature names with dtypes: ['bool', 'str']. An error will be raised in 1.2.\n",
      "  warnings.warn(\n"
     ]
    },
    {
     "name": "stdout",
     "output_type": "stream",
     "text": [
      "AUC:  0.8939497417038788\n"
     ]
    },
    {
     "name": "stderr",
     "output_type": "stream",
     "text": [
      "C:\\Users\\xli22\\anaconda3\\lib\\site-packages\\sklearn\\utils\\validation.py:1688: FutureWarning: Feature names only support names that are all strings. Got feature names with dtypes: ['bool', 'str']. An error will be raised in 1.2.\n",
      "  warnings.warn(\n"
     ]
    }
   ],
   "source": [
    "clf2.fit(X_train_processed, y_train)\n",
    "\n",
    "clf2_probs = clf2.predict_proba(X_test_processed)\n",
    "print('AUC: ', roc_auc_score(y_test, clf2_probs[:,1]))"
   ]
  },
  {
   "cell_type": "markdown",
   "id": "79fc59f8",
   "metadata": {},
   "source": [
    "The AUC score (0.89) is slightly higher than the model using only the numerical features (0.88).\n",
    "We can also take a look at the RFECV recommended features as shown below"
   ]
  },
  {
   "cell_type": "code",
   "execution_count": 233,
   "id": "38d21e05",
   "metadata": {
    "scrolled": true
   },
   "outputs": [
    {
     "name": "stdout",
     "output_type": "stream",
     "text": [
      "Index(['Informational', 'Informational_Duration', 'ProductRelated',\n",
      "       'ProductRelated_Duration', 'BounceRates', 'ExitRates', 'PageValues',\n",
      "       'Aug', 'Feb', 'Jul', 'Nov', 'Oct', 'Sep', 'New_Visitor'],\n",
      "      dtype='object')\n"
     ]
    }
   ],
   "source": [
    "lr_col = X_train_processed.columns[clf2.support_]\n",
    "print (lr_col)"
   ]
  },
  {
   "cell_type": "markdown",
   "id": "648d026f",
   "metadata": {},
   "source": [
    "Now, we try to use all features to build a logistic regression model without using RFECV.The AUC score of this model is still around 0.89."
   ]
  },
  {
   "cell_type": "code",
   "execution_count": 235,
   "id": "a38f145e",
   "metadata": {
    "scrolled": true
   },
   "outputs": [
    {
     "name": "stderr",
     "output_type": "stream",
     "text": [
      "C:\\Users\\xli22\\anaconda3\\lib\\site-packages\\sklearn\\utils\\validation.py:1688: FutureWarning: Feature names only support names that are all strings. Got feature names with dtypes: ['bool', 'str']. An error will be raised in 1.2.\n",
      "  warnings.warn(\n",
      "C:\\Users\\xli22\\anaconda3\\lib\\site-packages\\sklearn\\linear_model\\_logistic.py:814: ConvergenceWarning: lbfgs failed to converge (status=1):\n",
      "STOP: TOTAL NO. of ITERATIONS REACHED LIMIT.\n",
      "\n",
      "Increase the number of iterations (max_iter) or scale the data as shown in:\n",
      "    https://scikit-learn.org/stable/modules/preprocessing.html\n",
      "Please also refer to the documentation for alternative solver options:\n",
      "    https://scikit-learn.org/stable/modules/linear_model.html#logistic-regression\n",
      "  n_iter_i = _check_optimize_result(\n",
      "C:\\Users\\xli22\\anaconda3\\lib\\site-packages\\sklearn\\utils\\validation.py:1688: FutureWarning: Feature names only support names that are all strings. Got feature names with dtypes: ['bool', 'str']. An error will be raised in 1.2.\n",
      "  warnings.warn(\n"
     ]
    },
    {
     "name": "stdout",
     "output_type": "stream",
     "text": [
      "Logistic regression with all numreical and categorical AUC:  0.8903948866123808\n",
      "Logistic regression with RFE recommended numreical and categorical AUC AUC:  0.8939497417038788\n"
     ]
    }
   ],
   "source": [
    "#Logistic regression with all features vs Logistic regression with RFE recomended features\n",
    "lr = LogisticRegression()\n",
    "lr.fit(X_train_processed, y_train)\n",
    "lr_probs = lr.predict_proba(X_test_processed)\n",
    "print('Logistic regression with all numreical and categorical AUC: ', roc_auc_score(y_test, lr_probs[:,1]))\n",
    "\n",
    "X_train_lr = X_train_processed[lr_col]\n",
    "X_test_lr = X_test_processed[lr_col]\n",
    "lr = LogisticRegression()\n",
    "lr.fit(X_train_lr, y_train)\n",
    "lr_probs = lr.predict_proba(X_test_lr)\n",
    "print('Logistic regression with RFE recommended numreical and categorical AUC AUC: ', roc_auc_score(y_test, lr_probs[:,1]))"
   ]
  },
  {
   "cell_type": "markdown",
   "id": "57435158",
   "metadata": {},
   "source": [
    "Now, we use all the features to train a random forest model with RFECV"
   ]
  },
  {
   "cell_type": "code",
   "execution_count": 240,
   "id": "313f00bd",
   "metadata": {},
   "outputs": [],
   "source": [
    "clf2 = RFECV(RandomForestClassifier(),\n",
    "      scoring = 'roc_auc',\n",
    "      n_jobs = -1,\n",
    "      cv = 3,\n",
    "      step = 1)"
   ]
  },
  {
   "cell_type": "code",
   "execution_count": 161,
   "id": "67be19a6",
   "metadata": {
    "scrolled": true
   },
   "outputs": [
    {
     "name": "stderr",
     "output_type": "stream",
     "text": [
      "C:\\Users\\xli22\\anaconda3\\lib\\site-packages\\sklearn\\utils\\validation.py:1688: FutureWarning: Feature names only support names that are all strings. Got feature names with dtypes: ['bool', 'str']. An error will be raised in 1.2.\n",
      "  warnings.warn(\n"
     ]
    },
    {
     "name": "stdout",
     "output_type": "stream",
     "text": [
      "AUC:  0.9332720427283075\n"
     ]
    },
    {
     "name": "stderr",
     "output_type": "stream",
     "text": [
      "C:\\Users\\xli22\\anaconda3\\lib\\site-packages\\sklearn\\utils\\validation.py:1688: FutureWarning: Feature names only support names that are all strings. Got feature names with dtypes: ['bool', 'str']. An error will be raised in 1.2.\n",
      "  warnings.warn(\n"
     ]
    }
   ],
   "source": [
    "clf2.fit(X_train_processed, y_train)\n",
    "clf2_probs = clf2.predict_proba(X_test_processed)\n",
    "print('AUC: ', roc_auc_score(y_test, clf2_probs[:,1]))"
   ]
  },
  {
   "cell_type": "code",
   "execution_count": 164,
   "id": "0b4360c9",
   "metadata": {},
   "outputs": [
    {
     "name": "stdout",
     "output_type": "stream",
     "text": [
      "Index([         'Administrative', 'Administrative_Duration',\n",
      "                 'Informational',  'Informational_Duration',\n",
      "                'ProductRelated', 'ProductRelated_Duration',\n",
      "                   'BounceRates',               'ExitRates',\n",
      "                    'PageValues',              'SpecialDay',\n",
      "              'OperatingSystems',                 'Browser',\n",
      "                        'Region',             'TrafficType',\n",
      "                           'Aug',                     'Dec',\n",
      "                           'Jul',                     'Mar',\n",
      "                           'May',                     'Nov',\n",
      "                           'Oct',                     'Sep',\n",
      "                   'New_Visitor',       'Returning_Visitor',\n",
      "                           False,                      True],\n",
      "      dtype='object')\n",
      "26\n"
     ]
    }
   ],
   "source": [
    "rf_col = X_train_processed.columns[clf2.support_]\n",
    "print (rf_col)\n",
    "print (len(rf_col))"
   ]
  },
  {
   "cell_type": "code",
   "execution_count": 167,
   "id": "3fc999ca",
   "metadata": {},
   "outputs": [],
   "source": [
    "X_train_rf = X_train_processed.loc[:,clf2.support_]\n",
    "X_test_rf = X_test_processed.loc[:,clf2.support_]"
   ]
  },
  {
   "cell_type": "markdown",
   "id": "9e6e54f9",
   "metadata": {},
   "source": [
    "We also train a random forest model with all the features withou using RFECV."
   ]
  },
  {
   "cell_type": "code",
   "execution_count": 243,
   "id": "ddb1c517",
   "metadata": {
    "scrolled": true
   },
   "outputs": [
    {
     "name": "stderr",
     "output_type": "stream",
     "text": [
      "C:\\Users\\xli22\\anaconda3\\lib\\site-packages\\sklearn\\utils\\validation.py:1688: FutureWarning: Feature names only support names that are all strings. Got feature names with dtypes: ['bool', 'str']. An error will be raised in 1.2.\n",
      "  warnings.warn(\n",
      "C:\\Users\\xli22\\anaconda3\\lib\\site-packages\\sklearn\\utils\\validation.py:1688: FutureWarning: Feature names only support names that are all strings. Got feature names with dtypes: ['bool', 'str']. An error will be raised in 1.2.\n",
      "  warnings.warn(\n",
      "C:\\Users\\xli22\\anaconda3\\lib\\site-packages\\sklearn\\utils\\validation.py:1688: FutureWarning: Feature names only support names that are all strings. Got feature names with dtypes: ['bool', 'str']. An error will be raised in 1.2.\n",
      "  warnings.warn(\n"
     ]
    },
    {
     "name": "stdout",
     "output_type": "stream",
     "text": [
      "Random Forest classifier with all features AUC:  0.9312939052891772\n",
      "Random Forest classifier with RFE recommended features AUC:  0.9345557778181892\n"
     ]
    },
    {
     "name": "stderr",
     "output_type": "stream",
     "text": [
      "C:\\Users\\xli22\\anaconda3\\lib\\site-packages\\sklearn\\utils\\validation.py:1688: FutureWarning: Feature names only support names that are all strings. Got feature names with dtypes: ['bool', 'str']. An error will be raised in 1.2.\n",
      "  warnings.warn(\n"
     ]
    }
   ],
   "source": [
    "# Random forest classifier with all features vs with RFE recommende features\n",
    "rf_all = RandomForestClassifier()\n",
    "rf_all.fit(X_train_processed, y_train)\n",
    "rf_all_probs = rf_all.predict_proba(X_test_processed)\n",
    "print('Random Forest classifier with all features AUC: ', roc_auc_score(y_test, rf_all_probs[:,1]))\n",
    "\n",
    "rf = RandomForestClassifier()\n",
    "rf.fit(X_train_rf, y_train)\n",
    "rf_probs = rf.predict_proba(X_test_rf)\n",
    "print('Random Forest classifier with RFE recommended features AUC: ', roc_auc_score(y_test, rf_probs[:,1]))"
   ]
  },
  {
   "cell_type": "markdown",
   "id": "0f09305b",
   "metadata": {},
   "source": [
    "By using random forest, we achieved a AUC score of 0.93, which is higher than what we obtained from logistic regression model.Also, we found that using RFECV or not does not make a significant difference in model performance."
   ]
  },
  {
   "cell_type": "code",
   "execution_count": 171,
   "id": "aa6fa8fc",
   "metadata": {},
   "outputs": [
    {
     "data": {
      "text/plain": [
       "<BarContainer object of 26 artists>"
      ]
     },
     "execution_count": 171,
     "metadata": {},
     "output_type": "execute_result"
    },
    {
     "data": {
      "image/png": "[encoded data removed]",
      "text/plain": [
       "<Figure size 432x288 with 1 Axes>"
      ]
     },
     "metadata": {
      "needs_background": "light"
     },
     "output_type": "display_data"
    }
   ],
   "source": [
    "# take a look at the feature importance in random forest model\n",
    "importances = rf.feature_importances_\n",
    "plt.bar(range(len(importances)), importances, color=\"r\", align = \"center\")"
   ]
  },
  {
   "cell_type": "markdown",
   "id": "34e45ba1",
   "metadata": {},
   "source": [
    "Here, we found that the most important feature in this model is Page Values."
   ]
  },
  {
   "cell_type": "markdown",
   "id": "da0d1045",
   "metadata": {},
   "source": [
    "Now, we are going to check the collinearity within the given dataset. Collinearity may affect the model performance and feature importance in logistic regression model we built earlier. "
   ]
  },
  {
   "cell_type": "code",
   "execution_count": 244,
   "id": "bfb6c87f",
   "metadata": {},
   "outputs": [
    {
     "data": {
      "image/png": "[encoded data removed]",
      "text/plain": [
       "<Figure size 432x288 with 2 Axes>"
      ]
     },
     "metadata": {
      "needs_background": "light"
     },
     "output_type": "display_data"
    }
   ],
   "source": [
    "sns.heatmap(X_train_s.corr());"
   ]
  },
  {
   "cell_type": "markdown",
   "id": "95525bdd",
   "metadata": {},
   "source": [
    "By observing the colinearity heat map, we found that Administrative and Administrative are highly correlated. Informational and Informational duration are correlated. Product related and product related duration are correlated. Bounce rate and exit rates are correlated.\n",
    "So we would keep only one feature for each pair."
   ]
  },
  {
   "cell_type": "markdown",
   "id": "4b4e154b",
   "metadata": {},
   "source": [
    "We build a logistic regression model with the non-linearly releated features."
   ]
  },
  {
   "cell_type": "code",
   "execution_count": 186,
   "id": "2b1e552d",
   "metadata": {},
   "outputs": [],
   "source": [
    "X_train_col = X_train_s.drop(['Administrative','Informational','ProductRelated','BounceRates'],axis = 1)\n",
    "X_test_col = X_test_s.drop(['Administrative','Informational','ProductRelated','BounceRates'],axis = 1)"
   ]
  },
  {
   "cell_type": "code",
   "execution_count": 189,
   "id": "722e339e",
   "metadata": {},
   "outputs": [],
   "source": [
    "# Concatenate numerical and categorical features\n",
    "X_train_remove_colinear = pd.concat([X_train_col, cat_df_train], axis = 1)\n",
    "X_test_remove_colinear = pd.concat([X_test_col, cat_df_test], axis = 1)"
   ]
  },
  {
   "cell_type": "code",
   "execution_count": 192,
   "id": "0611eeb2",
   "metadata": {},
   "outputs": [
    {
     "name": "stdout",
     "output_type": "stream",
     "text": [
      "AUC:  0.8873586443326396\n"
     ]
    },
    {
     "name": "stderr",
     "output_type": "stream",
     "text": [
      "C:\\Users\\xli22\\anaconda3\\lib\\site-packages\\sklearn\\utils\\validation.py:1688: FutureWarning: Feature names only support names that are all strings. Got feature names with dtypes: ['bool', 'str']. An error will be raised in 1.2.\n",
      "  warnings.warn(\n",
      "C:\\Users\\xli22\\anaconda3\\lib\\site-packages\\sklearn\\linear_model\\_logistic.py:814: ConvergenceWarning: lbfgs failed to converge (status=1):\n",
      "STOP: TOTAL NO. of ITERATIONS REACHED LIMIT.\n",
      "\n",
      "Increase the number of iterations (max_iter) or scale the data as shown in:\n",
      "    https://scikit-learn.org/stable/modules/preprocessing.html\n",
      "Please also refer to the documentation for alternative solver options:\n",
      "    https://scikit-learn.org/stable/modules/linear_model.html#logistic-regression\n",
      "  n_iter_i = _check_optimize_result(\n",
      "C:\\Users\\xli22\\anaconda3\\lib\\site-packages\\sklearn\\utils\\validation.py:1688: FutureWarning: Feature names only support names that are all strings. Got feature names with dtypes: ['bool', 'str']. An error will be raised in 1.2.\n",
      "  warnings.warn(\n"
     ]
    }
   ],
   "source": [
    "# Logistic regression with non-colinear features\n",
    "reg = LogisticRegression()\n",
    "reg.fit(X_train_remove_colinear, y_train)\n",
    "reg_probs = reg.predict_proba(X_test_remove_colinear)\n",
    "print('AUC: ', roc_auc_score(y_test, reg_probs[:,1]))"
   ]
  },
  {
   "cell_type": "code",
   "execution_count": 200,
   "id": "a3302640",
   "metadata": {},
   "outputs": [
    {
     "data": {
      "text/plain": [
       "<BarContainer object of 6 artists>"
      ]
     },
     "execution_count": 200,
     "metadata": {},
     "output_type": "execute_result"
    },
    {
     "data": {
      "image/png": "[encoded data removed]",
      "text/plain": [
       "<Figure size 432x288 with 1 Axes>"
      ]
     },
     "metadata": {
      "needs_background": "light"
     },
     "output_type": "display_data"
    }
   ],
   "source": [
    "plt.bar(range(len(reg.coef_[0][0:6])), reg.coef_[0][0:6], color=\"r\", align = \"center\")"
   ]
  },
  {
   "cell_type": "code",
   "execution_count": 201,
   "id": "4d966600",
   "metadata": {},
   "outputs": [
    {
     "data": {
      "text/plain": [
       "Index(['Administrative_Duration', 'Informational_Duration',\n",
       "       'ProductRelated_Duration', 'ExitRates', 'PageValues', 'SpecialDay'],\n",
       "      dtype='object')"
      ]
     },
     "execution_count": 201,
     "metadata": {},
     "output_type": "execute_result"
    }
   ],
   "source": [
    "X_train_col.columns"
   ]
  },
  {
   "cell_type": "code",
   "execution_count": 202,
   "id": "b7cca725",
   "metadata": {},
   "outputs": [
    {
     "name": "stderr",
     "output_type": "stream",
     "text": [
      "C:\\Users\\xli22\\anaconda3\\lib\\site-packages\\sklearn\\utils\\validation.py:1688: FutureWarning: Feature names only support names that are all strings. Got feature names with dtypes: ['bool', 'str']. An error will be raised in 1.2.\n",
      "  warnings.warn(\n"
     ]
    },
    {
     "name": "stdout",
     "output_type": "stream",
     "text": [
      "AUC:  0.9325762933327946\n"
     ]
    },
    {
     "name": "stderr",
     "output_type": "stream",
     "text": [
      "C:\\Users\\xli22\\anaconda3\\lib\\site-packages\\sklearn\\utils\\validation.py:1688: FutureWarning: Feature names only support names that are all strings. Got feature names with dtypes: ['bool', 'str']. An error will be raised in 1.2.\n",
      "  warnings.warn(\n"
     ]
    }
   ],
   "source": [
    "# Logistic regression with non-colinear features\n",
    "rf_non_colinear = RandomForestClassifier()\n",
    "rf_non_colinear.fit(X_train_remove_colinear, y_train)\n",
    "rf_non_colinear_probs = rf_non_colinear.predict_proba(X_test_remove_colinear)\n",
    "print('AUC: ', roc_auc_score(y_test, rf_non_colinear_probs[:,1]))"
   ]
  },
  {
   "cell_type": "code",
   "execution_count": 203,
   "id": "0a921fba",
   "metadata": {},
   "outputs": [
    {
     "data": {
      "text/plain": [
       "<BarContainer object of 6 artists>"
      ]
     },
     "execution_count": 203,
     "metadata": {},
     "output_type": "execute_result"
    },
    {
     "data": {
      "image/png": "[encoded data removed]",
      "text/plain": [
       "<Figure size 432x288 with 1 Axes>"
      ]
     },
     "metadata": {
      "needs_background": "light"
     },
     "output_type": "display_data"
    }
   ],
   "source": [
    "# Speed through water and draft forward are the most important features in random forest model.\n",
    "importances = rf.feature_importances_\n",
    "plt.bar(range(len(importances[0:6])), importances[0:6], color=\"r\", align = \"center\")"
   ]
  },
  {
   "cell_type": "code",
   "execution_count": 270,
   "id": "372974a5",
   "metadata": {},
   "outputs": [],
   "source": [
    "from sklearn.compose import ColumnTransformer\n",
    "from sklearn.pipeline import make_pipeline\n",
    "from sklearn.compose import make_column_selector as selector\n",
    "\n",
    "\n",
    "numerical_columns_selector = selector(dtype_exclude=object)\n",
    "categorical_columns_selector = selector(dtype_include=object)\n",
    "# Subsetting columns\n",
    "numerical_columns = numerical_columns_selector(df)\n",
    "categorical_columns = categorical_columns_selector(df)\n",
    "\n",
    "categorical_preprocessor = OneHotEncoder(handle_unknown=\"ignore\")\n",
    "numerical_preprocessor = StandardScaler()\n",
    "\n",
    "# Associating trasnfroemrs with respective features\n",
    "preprocessor = ColumnTransformer([\n",
    "    ('one-hot-encoder', categorical_preprocessor, categorical_columns),\n",
    "    ('minmax_scaler', numerical_preprocessor, numerical_columns)])\n"
   ]
  },
  {
   "cell_type": "code",
   "execution_count": 262,
   "id": "d2845f18",
   "metadata": {},
   "outputs": [
    {
     "data": {
      "text/plain": [
       "['Month', 'VisitorType', 'weekend']"
      ]
     },
     "execution_count": 262,
     "metadata": {},
     "output_type": "execute_result"
    }
   ],
   "source": [
    "categorical_columns"
   ]
  },
  {
   "cell_type": "code",
   "execution_count": 271,
   "id": "adba2e86",
   "metadata": {},
   "outputs": [
    {
     "data": {
      "text/plain": [
       "0.9095701540957015"
      ]
     },
     "execution_count": 271,
     "metadata": {},
     "output_type": "execute_result"
    }
   ],
   "source": [
    "model_pipeline = make_pipeline(preprocessor, RandomForestClassifier(class_weight = 'balanced'))\n",
    "model_pipeline.fit(X_train, y_train)\n",
    "model_pipeline.score(X_test, y_test)"
   ]
  },
  {
   "cell_type": "code",
   "execution_count": 273,
   "id": "c1970bd6",
   "metadata": {},
   "outputs": [
    {
     "name": "stdout",
     "output_type": "stream",
     "text": [
      "Fitting 5 folds for each of 20 candidates, totalling 100 fits\n",
      "[CV] END randomforestclassifier__criterion=entropy, randomforestclassifier__max_depth=5, randomforestclassifier__max_features=sqrt, randomforestclassifier__min_samples_split=2, randomforestclassifier__n_estimators=10; total time=   0.1s\n",
      "[CV] END randomforestclassifier__criterion=entropy, randomforestclassifier__max_depth=5, randomforestclassifier__max_features=sqrt, randomforestclassifier__min_samples_split=2, randomforestclassifier__n_estimators=10; total time=   0.1s\n",
      "[CV] END randomforestclassifier__criterion=entropy, randomforestclassifier__max_depth=5, randomforestclassifier__max_features=sqrt, randomforestclassifier__min_samples_split=2, randomforestclassifier__n_estimators=10; total time=   0.1s\n",
      "[CV] END randomforestclassifier__criterion=entropy, randomforestclassifier__max_depth=5, randomforestclassifier__max_features=sqrt, randomforestclassifier__min_samples_split=2, randomforestclassifier__n_estimators=10; total time=   0.0s\n",
      "[CV] END randomforestclassifier__criterion=entropy, randomforestclassifier__max_depth=5, randomforestclassifier__max_features=sqrt, randomforestclassifier__min_samples_split=2, randomforestclassifier__n_estimators=10; total time=   0.0s\n",
      "[CV] END randomforestclassifier__criterion=gini, randomforestclassifier__max_depth=2, randomforestclassifier__max_features=sqrt, randomforestclassifier__min_samples_split=3, randomforestclassifier__n_estimators=100; total time=   0.4s\n",
      "[CV] END randomforestclassifier__criterion=gini, randomforestclassifier__max_depth=2, randomforestclassifier__max_features=sqrt, randomforestclassifier__min_samples_split=3, randomforestclassifier__n_estimators=100; total time=   0.4s\n",
      "[CV] END randomforestclassifier__criterion=gini, randomforestclassifier__max_depth=2, randomforestclassifier__max_features=sqrt, randomforestclassifier__min_samples_split=3, randomforestclassifier__n_estimators=100; total time=   0.4s\n",
      "[CV] END randomforestclassifier__criterion=gini, randomforestclassifier__max_depth=2, randomforestclassifier__max_features=sqrt, randomforestclassifier__min_samples_split=3, randomforestclassifier__n_estimators=100; total time=   0.5s\n",
      "[CV] END randomforestclassifier__criterion=gini, randomforestclassifier__max_depth=2, randomforestclassifier__max_features=sqrt, randomforestclassifier__min_samples_split=3, randomforestclassifier__n_estimators=100; total time=   0.4s\n",
      "[CV] END randomforestclassifier__criterion=entropy, randomforestclassifier__max_depth=8, randomforestclassifier__max_features=auto, randomforestclassifier__min_samples_split=3, randomforestclassifier__n_estimators=1; total time=   0.0s\n",
      "[CV] END randomforestclassifier__criterion=entropy, randomforestclassifier__max_depth=8, randomforestclassifier__max_features=auto, randomforestclassifier__min_samples_split=3, randomforestclassifier__n_estimators=1; total time=   0.0s\n",
      "[CV] END randomforestclassifier__criterion=entropy, randomforestclassifier__max_depth=8, randomforestclassifier__max_features=auto, randomforestclassifier__min_samples_split=3, randomforestclassifier__n_estimators=1; total time=   0.0s\n",
      "[CV] END randomforestclassifier__criterion=entropy, randomforestclassifier__max_depth=8, randomforestclassifier__max_features=auto, randomforestclassifier__min_samples_split=3, randomforestclassifier__n_estimators=1; total time=   0.0s\n",
      "[CV] END randomforestclassifier__criterion=entropy, randomforestclassifier__max_depth=8, randomforestclassifier__max_features=auto, randomforestclassifier__min_samples_split=3, randomforestclassifier__n_estimators=1; total time=   0.0s\n",
      "[CV] END randomforestclassifier__criterion=gini, randomforestclassifier__max_depth=10, randomforestclassifier__max_features=auto, randomforestclassifier__min_samples_split=5, randomforestclassifier__n_estimators=1000; total time=  10.3s\n",
      "[CV] END randomforestclassifier__criterion=gini, randomforestclassifier__max_depth=10, randomforestclassifier__max_features=auto, randomforestclassifier__min_samples_split=5, randomforestclassifier__n_estimators=1000; total time=  10.3s\n",
      "[CV] END randomforestclassifier__criterion=gini, randomforestclassifier__max_depth=10, randomforestclassifier__max_features=auto, randomforestclassifier__min_samples_split=5, randomforestclassifier__n_estimators=1000; total time=   9.8s\n",
      "[CV] END randomforestclassifier__criterion=gini, randomforestclassifier__max_depth=10, randomforestclassifier__max_features=auto, randomforestclassifier__min_samples_split=5, randomforestclassifier__n_estimators=1000; total time=   9.4s\n",
      "[CV] END randomforestclassifier__criterion=gini, randomforestclassifier__max_depth=10, randomforestclassifier__max_features=auto, randomforestclassifier__min_samples_split=5, randomforestclassifier__n_estimators=1000; total time=   8.4s\n",
      "[CV] END randomforestclassifier__criterion=entropy, randomforestclassifier__max_depth=10, randomforestclassifier__max_features=sqrt, randomforestclassifier__min_samples_split=3, randomforestclassifier__n_estimators=1000; total time=  10.0s\n",
      "[CV] END randomforestclassifier__criterion=entropy, randomforestclassifier__max_depth=10, randomforestclassifier__max_features=sqrt, randomforestclassifier__min_samples_split=3, randomforestclassifier__n_estimators=1000; total time=   9.6s\n",
      "[CV] END randomforestclassifier__criterion=entropy, randomforestclassifier__max_depth=10, randomforestclassifier__max_features=sqrt, randomforestclassifier__min_samples_split=3, randomforestclassifier__n_estimators=1000; total time=   9.4s\n",
      "[CV] END randomforestclassifier__criterion=entropy, randomforestclassifier__max_depth=10, randomforestclassifier__max_features=sqrt, randomforestclassifier__min_samples_split=3, randomforestclassifier__n_estimators=1000; total time=   9.6s\n",
      "[CV] END randomforestclassifier__criterion=entropy, randomforestclassifier__max_depth=10, randomforestclassifier__max_features=sqrt, randomforestclassifier__min_samples_split=3, randomforestclassifier__n_estimators=1000; total time=   9.4s\n",
      "[CV] END randomforestclassifier__criterion=entropy, randomforestclassifier__max_depth=8, randomforestclassifier__max_features=sqrt, randomforestclassifier__min_samples_split=4, randomforestclassifier__n_estimators=10; total time=   0.0s\n",
      "[CV] END randomforestclassifier__criterion=entropy, randomforestclassifier__max_depth=8, randomforestclassifier__max_features=sqrt, randomforestclassifier__min_samples_split=4, randomforestclassifier__n_estimators=10; total time=   0.0s\n",
      "[CV] END randomforestclassifier__criterion=entropy, randomforestclassifier__max_depth=8, randomforestclassifier__max_features=sqrt, randomforestclassifier__min_samples_split=4, randomforestclassifier__n_estimators=10; total time=   0.0s\n",
      "[CV] END randomforestclassifier__criterion=entropy, randomforestclassifier__max_depth=8, randomforestclassifier__max_features=sqrt, randomforestclassifier__min_samples_split=4, randomforestclassifier__n_estimators=10; total time=   0.0s\n",
      "[CV] END randomforestclassifier__criterion=entropy, randomforestclassifier__max_depth=8, randomforestclassifier__max_features=sqrt, randomforestclassifier__min_samples_split=4, randomforestclassifier__n_estimators=10; total time=   0.1s\n",
      "[CV] END randomforestclassifier__criterion=entropy, randomforestclassifier__max_depth=5, randomforestclassifier__max_features=sqrt, randomforestclassifier__min_samples_split=5, randomforestclassifier__n_estimators=1000; total time=   6.7s\n",
      "[CV] END randomforestclassifier__criterion=entropy, randomforestclassifier__max_depth=5, randomforestclassifier__max_features=sqrt, randomforestclassifier__min_samples_split=5, randomforestclassifier__n_estimators=1000; total time=   7.9s\n",
      "[CV] END randomforestclassifier__criterion=entropy, randomforestclassifier__max_depth=5, randomforestclassifier__max_features=sqrt, randomforestclassifier__min_samples_split=5, randomforestclassifier__n_estimators=1000; total time=   7.8s\n",
      "[CV] END randomforestclassifier__criterion=entropy, randomforestclassifier__max_depth=5, randomforestclassifier__max_features=sqrt, randomforestclassifier__min_samples_split=5, randomforestclassifier__n_estimators=1000; total time=   7.7s\n",
      "[CV] END randomforestclassifier__criterion=entropy, randomforestclassifier__max_depth=5, randomforestclassifier__max_features=sqrt, randomforestclassifier__min_samples_split=5, randomforestclassifier__n_estimators=1000; total time=   7.7s\n",
      "[CV] END randomforestclassifier__criterion=gini, randomforestclassifier__max_depth=2, randomforestclassifier__max_features=sqrt, randomforestclassifier__min_samples_split=2, randomforestclassifier__n_estimators=1; total time=   0.0s\n",
      "[CV] END randomforestclassifier__criterion=gini, randomforestclassifier__max_depth=2, randomforestclassifier__max_features=sqrt, randomforestclassifier__min_samples_split=2, randomforestclassifier__n_estimators=1; total time=   0.0s\n",
      "[CV] END randomforestclassifier__criterion=gini, randomforestclassifier__max_depth=2, randomforestclassifier__max_features=sqrt, randomforestclassifier__min_samples_split=2, randomforestclassifier__n_estimators=1; total time=   0.0s\n",
      "[CV] END randomforestclassifier__criterion=gini, randomforestclassifier__max_depth=2, randomforestclassifier__max_features=sqrt, randomforestclassifier__min_samples_split=2, randomforestclassifier__n_estimators=1; total time=   0.0s\n"
     ]
    },
    {
     "name": "stdout",
     "output_type": "stream",
     "text": [
      "[CV] END randomforestclassifier__criterion=gini, randomforestclassifier__max_depth=2, randomforestclassifier__max_features=sqrt, randomforestclassifier__min_samples_split=2, randomforestclassifier__n_estimators=1; total time=   0.0s\n",
      "[CV] END randomforestclassifier__criterion=entropy, randomforestclassifier__max_depth=10, randomforestclassifier__max_features=sqrt, randomforestclassifier__min_samples_split=2, randomforestclassifier__n_estimators=1000; total time=  12.1s\n",
      "[CV] END randomforestclassifier__criterion=entropy, randomforestclassifier__max_depth=10, randomforestclassifier__max_features=sqrt, randomforestclassifier__min_samples_split=2, randomforestclassifier__n_estimators=1000; total time=  11.1s\n",
      "[CV] END randomforestclassifier__criterion=entropy, randomforestclassifier__max_depth=10, randomforestclassifier__max_features=sqrt, randomforestclassifier__min_samples_split=2, randomforestclassifier__n_estimators=1000; total time=  10.7s\n",
      "[CV] END randomforestclassifier__criterion=entropy, randomforestclassifier__max_depth=10, randomforestclassifier__max_features=sqrt, randomforestclassifier__min_samples_split=2, randomforestclassifier__n_estimators=1000; total time=  10.2s\n",
      "[CV] END randomforestclassifier__criterion=entropy, randomforestclassifier__max_depth=10, randomforestclassifier__max_features=sqrt, randomforestclassifier__min_samples_split=2, randomforestclassifier__n_estimators=1000; total time=  10.3s\n",
      "[CV] END randomforestclassifier__criterion=entropy, randomforestclassifier__max_depth=2, randomforestclassifier__max_features=sqrt, randomforestclassifier__min_samples_split=5, randomforestclassifier__n_estimators=10; total time=   0.0s\n",
      "[CV] END randomforestclassifier__criterion=entropy, randomforestclassifier__max_depth=2, randomforestclassifier__max_features=sqrt, randomforestclassifier__min_samples_split=5, randomforestclassifier__n_estimators=10; total time=   0.0s\n",
      "[CV] END randomforestclassifier__criterion=entropy, randomforestclassifier__max_depth=2, randomforestclassifier__max_features=sqrt, randomforestclassifier__min_samples_split=5, randomforestclassifier__n_estimators=10; total time=   0.0s\n",
      "[CV] END randomforestclassifier__criterion=entropy, randomforestclassifier__max_depth=2, randomforestclassifier__max_features=sqrt, randomforestclassifier__min_samples_split=5, randomforestclassifier__n_estimators=10; total time=   0.0s\n",
      "[CV] END randomforestclassifier__criterion=entropy, randomforestclassifier__max_depth=2, randomforestclassifier__max_features=sqrt, randomforestclassifier__min_samples_split=5, randomforestclassifier__n_estimators=10; total time=   0.0s\n",
      "[CV] END randomforestclassifier__criterion=entropy, randomforestclassifier__max_depth=10, randomforestclassifier__max_features=sqrt, randomforestclassifier__min_samples_split=4, randomforestclassifier__n_estimators=10; total time=   0.0s\n",
      "[CV] END randomforestclassifier__criterion=entropy, randomforestclassifier__max_depth=10, randomforestclassifier__max_features=sqrt, randomforestclassifier__min_samples_split=4, randomforestclassifier__n_estimators=10; total time=   0.0s\n",
      "[CV] END randomforestclassifier__criterion=entropy, randomforestclassifier__max_depth=10, randomforestclassifier__max_features=sqrt, randomforestclassifier__min_samples_split=4, randomforestclassifier__n_estimators=10; total time=   0.0s\n",
      "[CV] END randomforestclassifier__criterion=entropy, randomforestclassifier__max_depth=10, randomforestclassifier__max_features=sqrt, randomforestclassifier__min_samples_split=4, randomforestclassifier__n_estimators=10; total time=   0.0s\n",
      "[CV] END randomforestclassifier__criterion=entropy, randomforestclassifier__max_depth=10, randomforestclassifier__max_features=sqrt, randomforestclassifier__min_samples_split=4, randomforestclassifier__n_estimators=10; total time=   0.0s\n",
      "[CV] END randomforestclassifier__criterion=gini, randomforestclassifier__max_depth=5, randomforestclassifier__max_features=sqrt, randomforestclassifier__min_samples_split=4, randomforestclassifier__n_estimators=1; total time=   0.0s\n",
      "[CV] END randomforestclassifier__criterion=gini, randomforestclassifier__max_depth=5, randomforestclassifier__max_features=sqrt, randomforestclassifier__min_samples_split=4, randomforestclassifier__n_estimators=1; total time=   0.0s\n",
      "[CV] END randomforestclassifier__criterion=gini, randomforestclassifier__max_depth=5, randomforestclassifier__max_features=sqrt, randomforestclassifier__min_samples_split=4, randomforestclassifier__n_estimators=1; total time=   0.0s\n",
      "[CV] END randomforestclassifier__criterion=gini, randomforestclassifier__max_depth=5, randomforestclassifier__max_features=sqrt, randomforestclassifier__min_samples_split=4, randomforestclassifier__n_estimators=1; total time=   0.0s\n",
      "[CV] END randomforestclassifier__criterion=gini, randomforestclassifier__max_depth=5, randomforestclassifier__max_features=sqrt, randomforestclassifier__min_samples_split=4, randomforestclassifier__n_estimators=1; total time=   0.0s\n",
      "[CV] END randomforestclassifier__criterion=entropy, randomforestclassifier__max_depth=2, randomforestclassifier__max_features=auto, randomforestclassifier__min_samples_split=5, randomforestclassifier__n_estimators=1; total time=   0.0s\n",
      "[CV] END randomforestclassifier__criterion=entropy, randomforestclassifier__max_depth=2, randomforestclassifier__max_features=auto, randomforestclassifier__min_samples_split=5, randomforestclassifier__n_estimators=1; total time=   0.0s\n",
      "[CV] END randomforestclassifier__criterion=entropy, randomforestclassifier__max_depth=2, randomforestclassifier__max_features=auto, randomforestclassifier__min_samples_split=5, randomforestclassifier__n_estimators=1; total time=   0.0s\n",
      "[CV] END randomforestclassifier__criterion=entropy, randomforestclassifier__max_depth=2, randomforestclassifier__max_features=auto, randomforestclassifier__min_samples_split=5, randomforestclassifier__n_estimators=1; total time=   0.0s\n",
      "[CV] END randomforestclassifier__criterion=entropy, randomforestclassifier__max_depth=2, randomforestclassifier__max_features=auto, randomforestclassifier__min_samples_split=5, randomforestclassifier__n_estimators=1; total time=   0.0s\n",
      "[CV] END randomforestclassifier__criterion=entropy, randomforestclassifier__max_depth=10, randomforestclassifier__max_features=auto, randomforestclassifier__min_samples_split=2, randomforestclassifier__n_estimators=1000; total time=   9.9s\n",
      "[CV] END randomforestclassifier__criterion=entropy, randomforestclassifier__max_depth=10, randomforestclassifier__max_features=auto, randomforestclassifier__min_samples_split=2, randomforestclassifier__n_estimators=1000; total time=   9.6s\n",
      "[CV] END randomforestclassifier__criterion=entropy, randomforestclassifier__max_depth=10, randomforestclassifier__max_features=auto, randomforestclassifier__min_samples_split=2, randomforestclassifier__n_estimators=1000; total time=   9.5s\n",
      "[CV] END randomforestclassifier__criterion=entropy, randomforestclassifier__max_depth=10, randomforestclassifier__max_features=auto, randomforestclassifier__min_samples_split=2, randomforestclassifier__n_estimators=1000; total time=  10.2s\n",
      "[CV] END randomforestclassifier__criterion=entropy, randomforestclassifier__max_depth=10, randomforestclassifier__max_features=auto, randomforestclassifier__min_samples_split=2, randomforestclassifier__n_estimators=1000; total time=  12.3s\n",
      "[CV] END randomforestclassifier__criterion=entropy, randomforestclassifier__max_depth=2, randomforestclassifier__max_features=auto, randomforestclassifier__min_samples_split=3, randomforestclassifier__n_estimators=1; total time=   0.0s\n",
      "[CV] END randomforestclassifier__criterion=entropy, randomforestclassifier__max_depth=2, randomforestclassifier__max_features=auto, randomforestclassifier__min_samples_split=3, randomforestclassifier__n_estimators=1; total time=   0.0s\n",
      "[CV] END randomforestclassifier__criterion=entropy, randomforestclassifier__max_depth=2, randomforestclassifier__max_features=auto, randomforestclassifier__min_samples_split=3, randomforestclassifier__n_estimators=1; total time=   0.0s\n",
      "[CV] END randomforestclassifier__criterion=entropy, randomforestclassifier__max_depth=2, randomforestclassifier__max_features=auto, randomforestclassifier__min_samples_split=3, randomforestclassifier__n_estimators=1; total time=   0.0s\n"
     ]
    },
    {
     "name": "stdout",
     "output_type": "stream",
     "text": [
      "[CV] END randomforestclassifier__criterion=entropy, randomforestclassifier__max_depth=2, randomforestclassifier__max_features=auto, randomforestclassifier__min_samples_split=3, randomforestclassifier__n_estimators=1; total time=   0.0s\n",
      "[CV] END randomforestclassifier__criterion=entropy, randomforestclassifier__max_depth=10, randomforestclassifier__max_features=auto, randomforestclassifier__min_samples_split=2, randomforestclassifier__n_estimators=10; total time=   0.1s\n",
      "[CV] END randomforestclassifier__criterion=entropy, randomforestclassifier__max_depth=10, randomforestclassifier__max_features=auto, randomforestclassifier__min_samples_split=2, randomforestclassifier__n_estimators=10; total time=   0.1s\n",
      "[CV] END randomforestclassifier__criterion=entropy, randomforestclassifier__max_depth=10, randomforestclassifier__max_features=auto, randomforestclassifier__min_samples_split=2, randomforestclassifier__n_estimators=10; total time=   0.1s\n",
      "[CV] END randomforestclassifier__criterion=entropy, randomforestclassifier__max_depth=10, randomforestclassifier__max_features=auto, randomforestclassifier__min_samples_split=2, randomforestclassifier__n_estimators=10; total time=   0.1s\n",
      "[CV] END randomforestclassifier__criterion=entropy, randomforestclassifier__max_depth=10, randomforestclassifier__max_features=auto, randomforestclassifier__min_samples_split=2, randomforestclassifier__n_estimators=10; total time=   0.1s\n",
      "[CV] END randomforestclassifier__criterion=entropy, randomforestclassifier__max_depth=2, randomforestclassifier__max_features=auto, randomforestclassifier__min_samples_split=2, randomforestclassifier__n_estimators=1; total time=   0.0s\n",
      "[CV] END randomforestclassifier__criterion=entropy, randomforestclassifier__max_depth=2, randomforestclassifier__max_features=auto, randomforestclassifier__min_samples_split=2, randomforestclassifier__n_estimators=1; total time=   0.0s\n",
      "[CV] END randomforestclassifier__criterion=entropy, randomforestclassifier__max_depth=2, randomforestclassifier__max_features=auto, randomforestclassifier__min_samples_split=2, randomforestclassifier__n_estimators=1; total time=   0.0s\n",
      "[CV] END randomforestclassifier__criterion=entropy, randomforestclassifier__max_depth=2, randomforestclassifier__max_features=auto, randomforestclassifier__min_samples_split=2, randomforestclassifier__n_estimators=1; total time=   0.0s\n",
      "[CV] END randomforestclassifier__criterion=entropy, randomforestclassifier__max_depth=2, randomforestclassifier__max_features=auto, randomforestclassifier__min_samples_split=2, randomforestclassifier__n_estimators=1; total time=   0.0s\n",
      "[CV] END randomforestclassifier__criterion=gini, randomforestclassifier__max_depth=10, randomforestclassifier__max_features=auto, randomforestclassifier__min_samples_split=2, randomforestclassifier__n_estimators=1; total time=   0.0s\n",
      "[CV] END randomforestclassifier__criterion=gini, randomforestclassifier__max_depth=10, randomforestclassifier__max_features=auto, randomforestclassifier__min_samples_split=2, randomforestclassifier__n_estimators=1; total time=   0.0s\n",
      "[CV] END randomforestclassifier__criterion=gini, randomforestclassifier__max_depth=10, randomforestclassifier__max_features=auto, randomforestclassifier__min_samples_split=2, randomforestclassifier__n_estimators=1; total time=   0.0s\n",
      "[CV] END randomforestclassifier__criterion=gini, randomforestclassifier__max_depth=10, randomforestclassifier__max_features=auto, randomforestclassifier__min_samples_split=2, randomforestclassifier__n_estimators=1; total time=   0.0s\n",
      "[CV] END randomforestclassifier__criterion=gini, randomforestclassifier__max_depth=10, randomforestclassifier__max_features=auto, randomforestclassifier__min_samples_split=2, randomforestclassifier__n_estimators=1; total time=   0.0s\n",
      "[CV] END randomforestclassifier__criterion=entropy, randomforestclassifier__max_depth=5, randomforestclassifier__max_features=auto, randomforestclassifier__min_samples_split=5, randomforestclassifier__n_estimators=1; total time=   0.0s\n",
      "[CV] END randomforestclassifier__criterion=entropy, randomforestclassifier__max_depth=5, randomforestclassifier__max_features=auto, randomforestclassifier__min_samples_split=5, randomforestclassifier__n_estimators=1; total time=   0.0s\n",
      "[CV] END randomforestclassifier__criterion=entropy, randomforestclassifier__max_depth=5, randomforestclassifier__max_features=auto, randomforestclassifier__min_samples_split=5, randomforestclassifier__n_estimators=1; total time=   0.0s\n",
      "[CV] END randomforestclassifier__criterion=entropy, randomforestclassifier__max_depth=5, randomforestclassifier__max_features=auto, randomforestclassifier__min_samples_split=5, randomforestclassifier__n_estimators=1; total time=   0.0s\n",
      "[CV] END randomforestclassifier__criterion=entropy, randomforestclassifier__max_depth=5, randomforestclassifier__max_features=auto, randomforestclassifier__min_samples_split=5, randomforestclassifier__n_estimators=1; total time=   0.0s\n",
      "[CV] END randomforestclassifier__criterion=gini, randomforestclassifier__max_depth=2, randomforestclassifier__max_features=auto, randomforestclassifier__min_samples_split=4, randomforestclassifier__n_estimators=1000; total time=   4.3s\n",
      "[CV] END randomforestclassifier__criterion=gini, randomforestclassifier__max_depth=2, randomforestclassifier__max_features=auto, randomforestclassifier__min_samples_split=4, randomforestclassifier__n_estimators=1000; total time=   4.5s\n",
      "[CV] END randomforestclassifier__criterion=gini, randomforestclassifier__max_depth=2, randomforestclassifier__max_features=auto, randomforestclassifier__min_samples_split=4, randomforestclassifier__n_estimators=1000; total time=   4.3s\n",
      "[CV] END randomforestclassifier__criterion=gini, randomforestclassifier__max_depth=2, randomforestclassifier__max_features=auto, randomforestclassifier__min_samples_split=4, randomforestclassifier__n_estimators=1000; total time=   4.3s\n",
      "[CV] END randomforestclassifier__criterion=gini, randomforestclassifier__max_depth=2, randomforestclassifier__max_features=auto, randomforestclassifier__min_samples_split=4, randomforestclassifier__n_estimators=1000; total time=   4.4s\n"
     ]
    },
    {
     "data": {
      "text/plain": [
       "{'randomforestclassifier__n_estimators': 1000,\n",
       " 'randomforestclassifier__min_samples_split': 5,\n",
       " 'randomforestclassifier__max_features': 'auto',\n",
       " 'randomforestclassifier__max_depth': 10,\n",
       " 'randomforestclassifier__criterion': 'gini'}"
      ]
     },
     "execution_count": 273,
     "metadata": {},
     "output_type": "execute_result"
    }
   ],
   "source": [
    "from sklearn.model_selection import GridSearchCV\n",
    "from sklearn.model_selection import RandomizedSearchCV\n",
    "parameters = {\n",
    "    'randomforestclassifier__n_estimators':[1,10,100,1000],\n",
    "    'randomforestclassifier__criterion': ['gini', 'entropy'],\n",
    "    'randomforestclassifier__min_samples_split': [2,3,4,5],\n",
    "    'randomforestclassifier__max_depth': [2,5,8,10],\n",
    "    'randomforestclassifier__max_features':['auto','sqrt']\n",
    "}\n",
    "\n",
    "\n",
    "rv = RandomizedSearchCV(model_pipeline,param_distributions = parameters, cv = 5, verbose = 2, n_iter = 20)\n",
    "\n",
    "rv.fit(X_train,y_train)\n",
    "rv.best_params_"
   ]
  },
  {
   "cell_type": "code",
   "execution_count": null,
   "id": "108d597c",
   "metadata": {},
   "outputs": [],
   "source": []
  }
 ],
 "metadata": {
  "kernelspec": {
   "display_name": "Python 3",
   "language": "python",
   "name": "python3"
  },
  "language_info": {
   "codemirror_mode": {
    "name": "ipython",
    "version": 3
   },
   "file_extension": ".py",
   "mimetype": "text/x-python",
   "name": "python",
   "nbconvert_exporter": "python",
   "pygments_lexer": "ipython3",
   "version": "3.8.8"
  }
 },
 "nbformat": 4,
 "nbformat_minor": 5
}
